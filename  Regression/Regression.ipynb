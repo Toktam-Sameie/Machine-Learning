{
 "cells": [
  {
   "cell_type": "markdown",
   "id": "variable-clinton",
   "metadata": {},
   "source": [
    "Q 1 :"
   ]
  },
  {
   "cell_type": "code",
   "execution_count": 3,
   "id": "adaptive-impossible",
   "metadata": {},
   "outputs": [],
   "source": [
    "import matplotlib.pyplot as plt\n",
    "import pandas as pd\n",
    "import numpy as np\n",
    "from pandas import Series\n",
    "from numpy.random import randn\n",
    "from mpl_toolkits import mplot3d"
   ]
  },
  {
   "cell_type": "code",
   "execution_count": null,
   "id": "thirty-saturn",
   "metadata": {},
   "outputs": [],
   "source": [
    "test = pd.read_csv('test.csv')\n",
    "m=len(test['x'])\n",
    "x = np.array(test[\"x\"]).reshape(m,1)\n",
    "y = np.array(test[\"y\"]).reshape(m,1)"
   ]
  },
  {
   "cell_type": "code",
   "execution_count": 24,
   "id": "patent-praise",
   "metadata": {},
   "outputs": [],
   "source": [
    "def call_cost(theta,x,y):\n",
    "    m=len(x)\n",
    "    prediction = np.dot(x,theta) \n",
    "    cost = (1/(2*m))* np.sum(np.square(prediction - y ))\n",
    "    return cost"
   ]
  },
  {
   "cell_type": "code",
   "execution_count": 3,
   "id": "prepared-repeat",
   "metadata": {},
   "outputs": [],
   "source": [
    "def grad_desc(x,y,theta,alpha,iterations):\n",
    "    m=len(y)\n",
    "    # this loop updates the magnitude of theta vector  \n",
    "    for i in range(iterations):\n",
    "        #we start prediction with initial condition\n",
    "        prediction = np.dot(x,theta)  \n",
    "        theta = theta - (1/m)*alpha*(np.dot(x.T,(prediction - y)))     \n",
    "    cost = call_cost(theta,x,y)\n",
    "    plt.plot(x[:,1], y ,'ro',x[:,1],prediction , 'g^' )\n",
    "    return theta , cost "
   ]
  },
  {
   "cell_type": "code",
   "execution_count": 4,
   "id": "educated-problem",
   "metadata": {},
   "outputs": [
    {
     "name": "stdout",
     "output_type": "stream",
     "text": [
      "theta0 :  -1.216473251360072\n",
      "theta1 :  1.0256276436347913\n",
      "H_theta =  -1.216473251360072  +  X  1.0256276436347913\n",
      "cost :  4.649879085730707\n"
     ]
    },
    {
     "data": {
      "image/png": "[encoded data removed]",
      "text/plain": [
       "<Figure size 432x288 with 1 Axes>"
      ]
     },
     "metadata": {
      "needs_background": "light"
     },
     "output_type": "display_data"
    }
   ],
   "source": [
    "alpha = 0.0000001 \n",
    "iterations = 100000\n",
    "theta = np.random.randn(2,1)  # random initial condition \n",
    "# this line concatinate 1 to a x vector to make theta vector and x vector the same size \n",
    "X_b = np.c_[np.ones((len(x),1)),x]\n",
    "theta_ , cost = grad_desc (X_b , y , theta ,alpha , iterations)\n",
    "print(\"theta0 : \",theta_[0][0],sep=' ')\n",
    "print(\"theta1 : \",theta_[1][0],sep=' ')\n",
    "print(\"H_theta = \",theta_[0][0], \" + \",\"X \", theta_[1][0])\n",
    "print(\"cost : \",cost,sep=' ')"
   ]
  },
  {
   "cell_type": "code",
   "execution_count": 5,
   "id": "described-equivalent",
   "metadata": {},
   "outputs": [
    {
     "name": "stdout",
     "output_type": "stream",
     "text": [
      "theta0 :  -1.2595446935404497\n",
      "theta1 :  0.20525426734933416\n",
      "cost :  4.657831529241282\n"
     ]
    },
    {
     "data": {
      "image/png": "[encoded data removed]",
      "text/plain": [
       "<Figure size 432x288 with 1 Axes>"
      ]
     },
     "metadata": {
      "needs_background": "light"
     },
     "output_type": "display_data"
    }
   ],
   "source": [
    "X_b_2 = np.c_[np.ones((len(x),1)),5*x]\n",
    "theta_ , cost = grad_desc (X_b_2 , y , theta ,alpha , iterations)\n",
    "print(\"theta0 : \",theta_[0][0],sep=' ')\n",
    "print(\"theta1 : \",theta_[1][0],sep=' ')\n",
    "print(\"cost : \",cost,sep=' ')"
   ]
  },
  {
   "cell_type": "code",
   "execution_count": 6,
   "id": "retired-lancaster",
   "metadata": {},
   "outputs": [],
   "source": [
    "def grad_desc_2(x,y,theta,alpha,iterations):\n",
    "    m=len(y)\n",
    "    \n",
    "    # this loop updates the magnitude of theta vector  \n",
    "    for i in range(iterations):\n",
    "        #we start prediction with initial condition\n",
    "        prediction = np.dot(x,theta)  \n",
    "        theta = theta - (1/m)*alpha*(np.dot(x.T,(prediction - y)))     \n",
    "    cost = call_cost(theta,x,y)\n",
    "    fig = plt.figure()\n",
    "    ax = plt.axes(projection='3d')\n",
    "    ax.scatter(x[:,1],x[:,2],y,marker='o')\n",
    "    ax.scatter(x[:,1],x[:,2],prediction,marker='^')\n",
    "    plt.show()\n",
    "    return theta , cost"
   ]
  },
  {
   "cell_type": "code",
   "execution_count": null,
   "id": "upper-parcel",
   "metadata": {},
   "outputs": [],
   "source": [
    "alpha = 0.00001 \n",
    "iterations = 100000000\n",
    "x_2 = x**2\n",
    "X_b_3 = np.c_[np.ones((len(x),1)),x,x_2]\n",
    "theta_ = np.random.randn(3,1)\n",
    "theta_ , cost = grad_desc_2 (X_b_3 , y , theta_ ,alpha , iterations)\n",
    "print(\"theta0 : \",theta_[0][0],sep=' ')\n",
    "print(\"theta1 : \",theta_[1][0],sep=' ')\n",
    "print(\"theta2 : \",theta_[2][0],sep=' ')\n",
    "print(\"cost : \",cost,sep=' ')"
   ]
  },
  {
   "cell_type": "code",
   "execution_count": null,
   "id": "nervous-implementation",
   "metadata": {},
   "outputs": [],
   "source": [
    "X = test.iloc[:, 0].values\n",
    "Y = test.iloc[:, 1].values\n",
    "A = (len(X)*((np.dot(X,Y)/len(X))- (np.mean(X))*(np.mean(Y))))/((len(X)-1)*(np.var(X)));\n",
    "B = np.mean(Y)-A*np.mean(X);\n",
    "MSE=sum((Y-(A*X+B))**2)/len(X);\n",
    "print('A : ',A)\n",
    "print('B : ',B)\n",
    "print(MSE)\n",
    "plt.plot(X, Y ,'ro',X,A*X+B , 'g^' )"
   ]
  },
  {
   "cell_type": "markdown",
   "id": "varying-diesel",
   "metadata": {},
   "source": [
    "Q 2 :"
   ]
  },
  {
   "cell_type": "code",
   "execution_count": 3,
   "id": "personalized-carroll",
   "metadata": {},
   "outputs": [
    {
     "data": {
      "text/plain": [
       "[<matplotlib.lines.Line2D at 0x1157f33d0>]"
      ]
     },
     "execution_count": 3,
     "metadata": {},
     "output_type": "execute_result"
    },
    {
     "data": {
      "image/png": "[encoded data removed]",
      "text/plain": [
       "<Figure size 432x288 with 1 Axes>"
      ]
     },
     "metadata": {
      "needs_background": "light"
     },
     "output_type": "display_data"
    }
   ],
   "source": [
    "f = lambda x: x**2 -7*x**3 +8*x**4 - 12\n",
    "f_prim = lambda x: 2*x - 21*x**2 + 32*x**3 \n",
    "f_zegond = lambda x: 2 - -42*x + 96*x**2\n",
    "X =  np.linspace(-15,15,33)\n",
    "plt.plot(X,f(X))\n",
    "plt.plot(X,f_prim(X))"
   ]
  },
  {
   "cell_type": "code",
   "execution_count": 14,
   "id": "experienced-jewel",
   "metadata": {},
   "outputs": [],
   "source": [
    "def newton(f,Df,x0,epsilon,iteration):\n",
    "    values =[]\n",
    "    values.append(x0)\n",
    "    xn = x0\n",
    "    for n in range(0,iteration):\n",
    "        if abs(f(xn)) < epsilon:\n",
    "            print('Found solution after',n,'iterations.')\n",
    "            return xn , values\n",
    "        xn = xn - f(xn)/Df(xn)\n",
    "        values.append(xn)\n",
    "    print('No solution found.')\n",
    "    return None"
   ]
  },
  {
   "cell_type": "code",
   "execution_count": 25,
   "id": "brilliant-benefit",
   "metadata": {},
   "outputs": [
    {
     "name": "stdout",
     "output_type": "stream",
     "text": [
      "Found solution after 90 iterations.\n",
      "Found solution after 91 iterations.\n",
      "The minimum is at the point x =   0.5406492645999833  and the value of the functions is equal to f(x) =  -12.13040506098638\n"
     ]
    },
    {
     "data": {
      "text/plain": [
       "<AxesSubplot:>"
      ]
     },
     "execution_count": 25,
     "metadata": {},
     "output_type": "execute_result"
    },
    {
     "data": {
      "image/png": "[encoded data removed]",
      "text/plain": [
       "<Figure size 432x288 with 1 Axes>"
      ]
     },
     "metadata": {
      "needs_background": "light"
     },
     "output_type": "display_data"
    }
   ],
   "source": [
    "f = lambda x: x**2 -7*x**3 +8*x**4 - 12\n",
    "f_prim = lambda x: 2*x - 21*x**2 + 32*x**3 \n",
    "f_zegond = lambda x: 2 - -42*x + 96*x**2\n",
    "ans_1,values1 = newton(f_prim,f_zegond,6,1e-5,1000)\n",
    "ans_2,values2 = newton(f_prim,f_zegond,-8,1e-5,1000)\n",
    "print(\"The minimum is at the point x =  \", ans_1 , \" and the value of the functions is equal to f(x) = \",f(ans_1))\n",
    "diff = []\n",
    "for i in range(len(values1)-1):\n",
    "    diff.append(values1[i]-values1[i+1])\n",
    "df = pd.DataFrame(diff)    \n",
    "df.plot.bar() "
   ]
  },
  {
   "cell_type": "markdown",
   "id": "competent-donor",
   "metadata": {},
   "source": [
    "Q 3 )"
   ]
  },
  {
   "cell_type": "markdown",
   "id": "comparative-contractor",
   "metadata": {},
   "source": [
    "Specifically: \n",
    "X1 Relative Compactness <br>\n",
    "X2 Surface Area <br>\n",
    "X3 Wall Area <br>\n",
    "X4 Roof Area <br>\n",
    "X5 Overall Height <br>\n",
    "X6 Orientation <br>\n",
    "X7 Glazing Area <br>\n",
    "X8 Glazing Area Distribution <br>\n",
    "y1 Heating Load <br>\n",
    "y2 Cooling Load<br>"
   ]
  },
  {
   "cell_type": "code",
   "execution_count": 15,
   "id": "injured-orientation",
   "metadata": {},
   "outputs": [],
   "source": [
    "# we have 768 dataset\n",
    "data = pd.read_excel('ENB2012_data.xlsx')"
   ]
  },
  {
   "cell_type": "markdown",
   "id": "protective-statistics",
   "metadata": {},
   "source": [
    "Normalization of datas :\n",
    "\n",
    "\n",
    "\n"
   ]
  },
  {
   "cell_type": "code",
   "execution_count": 16,
   "id": "statewide-booth",
   "metadata": {},
   "outputs": [],
   "source": [
    "data1 = (data-data.min())/(data.max() - data.min());"
   ]
  },
  {
   "cell_type": "code",
   "execution_count": 17,
   "id": "talented-occasion",
   "metadata": {},
   "outputs": [],
   "source": [
    "def grad_desc_3(x,y,theta,alpha,iterations):\n",
    "    m=len(y)\n",
    "    \n",
    "    # this loop updates the magnitude of theta vector  \n",
    "    for i in range(iterations):\n",
    "        #we start prediction with initial condition\n",
    "        prediction = np.dot(x,theta)  \n",
    "        theta = theta - (1/m)*alpha*(np.dot(x.T,(prediction - y)))     \n",
    "    cost = call_cost(theta,x,y)\n",
    "    return theta , cost "
   ]
  },
  {
   "cell_type": "code",
   "execution_count": 28,
   "id": "everyday-filename",
   "metadata": {},
   "outputs": [],
   "source": [
    "alpha = 0.0000001 \n",
    "iterations = 100000\n",
    "theta_3 = np.random.randn(9,1)\n",
    "\n",
    "training_data = data.iloc[:600,:] \n",
    "test_data = data.iloc[601:,:] \n",
    "\n",
    "X = pd.DataFrame(training_data , columns = ['X1','X2','X3','X4','X5','X6','X7','X8'])\n",
    "Y1 = pd.DataFrame(training_data , columns = ['Y1'])\n",
    "Y2 = pd.DataFrame(training_data , columns = ['Y2'] )                 \n",
    "X = np.c_[np.ones((len(X),1)),X]"
   ]
  },
  {
   "cell_type": "code",
   "execution_count": 33,
   "id": "therapeutic-thailand",
   "metadata": {},
   "outputs": [
    {
     "name": "stdout",
     "output_type": "stream",
     "text": [
      "theta_Y1 :  [[ 0.29848395]\n",
      " [-0.78728847]\n",
      " [-0.45803611]\n",
      " [ 0.61387077]\n",
      " [ 0.78338375]\n",
      " [-0.73318994]\n",
      " [-0.00478318]\n",
      " [ 0.45221582]\n",
      " [-0.39345585]]\n",
      "theta_Y2 :  [[ 0.29891005]\n",
      " [-0.78663753]\n",
      " [-0.4533633 ]\n",
      " [ 0.60903774]\n",
      " [ 0.78813667]\n",
      " [-0.72782296]\n",
      " [-0.00151456]\n",
      " [ 0.4515089 ]\n",
      " [-0.39764217]]\n",
      "cost_Y1 :  Y1    23.377288\n",
      "dtype: float64\n",
      "cost_Y2 :  Y2    24.787776\n",
      "dtype: float64\n"
     ]
    }
   ],
   "source": [
    "theta_Y1 , cost_Y1 = grad_desc_3 (X , Y1 , theta_3 ,alpha , iterations)\n",
    "theta_Y2 , cost_Y2 = grad_desc_3 (X , Y2 , theta_3 ,alpha , iterations)\n",
    "\n",
    "\n",
    "print(\"theta_Y1 : \",theta_Y1,sep=' ')\n",
    "print(\"theta_Y2 : \",theta_Y2,sep=' ')\n",
    "print(\"cost_Y1 : \",cost_Y1,sep=' ')\n",
    "print(\"cost_Y2 : \",cost_Y2,sep=' ')"
   ]
  },
  {
   "cell_type": "code",
   "execution_count": 34,
   "id": "twelve-charm",
   "metadata": {},
   "outputs": [],
   "source": [
    "X_test = pd.DataFrame(test_data, columns = ['X1','X2','X3','X4','X5','X6','X7','X8'])\n",
    "Y1_test = pd.DataFrame(test_data , columns = ['Y1'])\n",
    "Y2_test = pd.DataFrame(test_data , columns = ['Y2'] )                 \n",
    "X_test = np.c_[np.ones((len(X_),1)),X_test]"
   ]
  },
  {
   "cell_type": "code",
   "execution_count": 35,
   "id": "royal-belgium",
   "metadata": {},
   "outputs": [
    {
     "name": "stdout",
     "output_type": "stream",
     "text": [
      "cost_Y1_test :  Y1    28.69356\n",
      "dtype: float64\n",
      "cost_Y2_test :  Y2    28.448248\n",
      "dtype: float64\n"
     ]
    }
   ],
   "source": [
    "cost_Y1_test = call_cost(theta_Y1,X_test,Y1_test)\n",
    "cost_Y2_test = call_cost(theta_Y2,X_test,Y2_test)\n",
    "print(\"cost_Y1_test : \",cost_Y1_test)\n",
    "print(\"cost_Y2_test : \",cost_Y2_test)"
   ]
  },
  {
   "cell_type": "markdown",
   "id": "lesbian-castle",
   "metadata": {},
   "source": [
    "we split  data into 12 part and ...."
   ]
  },
  {
   "cell_type": "code",
   "execution_count": 170,
   "id": "special-statistics",
   "metadata": {},
   "outputs": [
    {
     "name": "stdout",
     "output_type": "stream",
     "text": [
      "0\n"
     ]
    },
    {
     "ename": "TypeError",
     "evalue": "'(slice(45, 50, None), slice(None, None, None))' is an invalid key",
     "output_type": "error",
     "traceback": [
      "\u001b[0;31m---------------------------------------------------------------------------\u001b[0m",
      "\u001b[0;31mTypeError\u001b[0m                                 Traceback (most recent call last)",
      "\u001b[0;32m<ipython-input-170-dba406b9a53d>\u001b[0m in \u001b[0;36m<module>\u001b[0;34m\u001b[0m\n\u001b[1;32m     15\u001b[0m \u001b[0;34m\u001b[0m\u001b[0m\n\u001b[1;32m     16\u001b[0m     \u001b[0mX_eval\u001b[0m \u001b[0;34m=\u001b[0m \u001b[0mX\u001b[0m\u001b[0;34m[\u001b[0m\u001b[0;36m50\u001b[0m\u001b[0;34m*\u001b[0m\u001b[0;34m(\u001b[0m\u001b[0mi\u001b[0m\u001b[0;34m+\u001b[0m\u001b[0;36m1\u001b[0m\u001b[0;34m)\u001b[0m\u001b[0;34m-\u001b[0m\u001b[0;36m5\u001b[0m\u001b[0;34m:\u001b[0m \u001b[0;36m50\u001b[0m\u001b[0;34m*\u001b[0m\u001b[0;34m(\u001b[0m\u001b[0mi\u001b[0m\u001b[0;34m+\u001b[0m\u001b[0;36m1\u001b[0m\u001b[0;34m)\u001b[0m\u001b[0;34m,\u001b[0m\u001b[0;34m:\u001b[0m\u001b[0;34m]\u001b[0m\u001b[0;34m\u001b[0m\u001b[0;34m\u001b[0m\u001b[0m\n\u001b[0;32m---> 17\u001b[0;31m     \u001b[0mY1_eval\u001b[0m \u001b[0;34m=\u001b[0m \u001b[0mY1\u001b[0m\u001b[0;34m[\u001b[0m\u001b[0;36m50\u001b[0m\u001b[0;34m*\u001b[0m\u001b[0;34m(\u001b[0m\u001b[0mi\u001b[0m\u001b[0;34m+\u001b[0m\u001b[0;36m1\u001b[0m\u001b[0;34m)\u001b[0m\u001b[0;34m-\u001b[0m\u001b[0;36m5\u001b[0m\u001b[0;34m:\u001b[0m \u001b[0;36m50\u001b[0m\u001b[0;34m*\u001b[0m\u001b[0;34m(\u001b[0m\u001b[0mi\u001b[0m\u001b[0;34m+\u001b[0m\u001b[0;36m1\u001b[0m\u001b[0;34m)\u001b[0m\u001b[0;34m,\u001b[0m\u001b[0;34m:\u001b[0m\u001b[0;34m]\u001b[0m\u001b[0;34m\u001b[0m\u001b[0;34m\u001b[0m\u001b[0m\n\u001b[0m\u001b[1;32m     18\u001b[0m     \u001b[0mY2_eval\u001b[0m \u001b[0;34m=\u001b[0m \u001b[0mY2\u001b[0m\u001b[0;34m[\u001b[0m\u001b[0;36m50\u001b[0m\u001b[0;34m*\u001b[0m\u001b[0;34m(\u001b[0m\u001b[0mi\u001b[0m\u001b[0;34m+\u001b[0m\u001b[0;36m1\u001b[0m\u001b[0;34m)\u001b[0m\u001b[0;34m-\u001b[0m\u001b[0;36m5\u001b[0m\u001b[0;34m:\u001b[0m \u001b[0;36m50\u001b[0m\u001b[0;34m*\u001b[0m\u001b[0;34m(\u001b[0m\u001b[0mi\u001b[0m\u001b[0;34m+\u001b[0m\u001b[0;36m1\u001b[0m\u001b[0;34m)\u001b[0m\u001b[0;34m,\u001b[0m\u001b[0;34m:\u001b[0m\u001b[0;34m]\u001b[0m\u001b[0;34m\u001b[0m\u001b[0;34m\u001b[0m\u001b[0m\n\u001b[1;32m     19\u001b[0m     \u001b[0mcost_eval_Y1\u001b[0m\u001b[0;34m.\u001b[0m\u001b[0mappend\u001b[0m\u001b[0;34m(\u001b[0m\u001b[0mcall_cost\u001b[0m\u001b[0;34m(\u001b[0m\u001b[0mtheta_Y1\u001b[0m\u001b[0;34m,\u001b[0m\u001b[0mX_eval\u001b[0m\u001b[0;34m,\u001b[0m\u001b[0mY1_eval\u001b[0m\u001b[0;34m)\u001b[0m\u001b[0;34m)\u001b[0m\u001b[0;34m\u001b[0m\u001b[0;34m\u001b[0m\u001b[0m\n",
      "\u001b[0;32m/usr/local/lib/python3.7/site-packages/pandas/core/frame.py\u001b[0m in \u001b[0;36m__getitem__\u001b[0;34m(self, key)\u001b[0m\n\u001b[1;32m   3022\u001b[0m             \u001b[0;32mif\u001b[0m \u001b[0mself\u001b[0m\u001b[0;34m.\u001b[0m\u001b[0mcolumns\u001b[0m\u001b[0;34m.\u001b[0m\u001b[0mnlevels\u001b[0m \u001b[0;34m>\u001b[0m \u001b[0;36m1\u001b[0m\u001b[0;34m:\u001b[0m\u001b[0;34m\u001b[0m\u001b[0;34m\u001b[0m\u001b[0m\n\u001b[1;32m   3023\u001b[0m                 \u001b[0;32mreturn\u001b[0m \u001b[0mself\u001b[0m\u001b[0;34m.\u001b[0m\u001b[0m_getitem_multilevel\u001b[0m\u001b[0;34m(\u001b[0m\u001b[0mkey\u001b[0m\u001b[0;34m)\u001b[0m\u001b[0;34m\u001b[0m\u001b[0;34m\u001b[0m\u001b[0m\n\u001b[0;32m-> 3024\u001b[0;31m             \u001b[0mindexer\u001b[0m \u001b[0;34m=\u001b[0m \u001b[0mself\u001b[0m\u001b[0;34m.\u001b[0m\u001b[0mcolumns\u001b[0m\u001b[0;34m.\u001b[0m\u001b[0mget_loc\u001b[0m\u001b[0;34m(\u001b[0m\u001b[0mkey\u001b[0m\u001b[0;34m)\u001b[0m\u001b[0;34m\u001b[0m\u001b[0;34m\u001b[0m\u001b[0m\n\u001b[0m\u001b[1;32m   3025\u001b[0m             \u001b[0;32mif\u001b[0m \u001b[0mis_integer\u001b[0m\u001b[0;34m(\u001b[0m\u001b[0mindexer\u001b[0m\u001b[0;34m)\u001b[0m\u001b[0;34m:\u001b[0m\u001b[0;34m\u001b[0m\u001b[0;34m\u001b[0m\u001b[0m\n\u001b[1;32m   3026\u001b[0m                 \u001b[0mindexer\u001b[0m \u001b[0;34m=\u001b[0m \u001b[0;34m[\u001b[0m\u001b[0mindexer\u001b[0m\u001b[0;34m]\u001b[0m\u001b[0;34m\u001b[0m\u001b[0;34m\u001b[0m\u001b[0m\n",
      "\u001b[0;32m/usr/local/lib/python3.7/site-packages/pandas/core/indexes/base.py\u001b[0m in \u001b[0;36mget_loc\u001b[0;34m(self, key, method, tolerance)\u001b[0m\n\u001b[1;32m   3078\u001b[0m             \u001b[0mcasted_key\u001b[0m \u001b[0;34m=\u001b[0m \u001b[0mself\u001b[0m\u001b[0;34m.\u001b[0m\u001b[0m_maybe_cast_indexer\u001b[0m\u001b[0;34m(\u001b[0m\u001b[0mkey\u001b[0m\u001b[0;34m)\u001b[0m\u001b[0;34m\u001b[0m\u001b[0;34m\u001b[0m\u001b[0m\n\u001b[1;32m   3079\u001b[0m             \u001b[0;32mtry\u001b[0m\u001b[0;34m:\u001b[0m\u001b[0;34m\u001b[0m\u001b[0;34m\u001b[0m\u001b[0m\n\u001b[0;32m-> 3080\u001b[0;31m                 \u001b[0;32mreturn\u001b[0m \u001b[0mself\u001b[0m\u001b[0;34m.\u001b[0m\u001b[0m_engine\u001b[0m\u001b[0;34m.\u001b[0m\u001b[0mget_loc\u001b[0m\u001b[0;34m(\u001b[0m\u001b[0mcasted_key\u001b[0m\u001b[0;34m)\u001b[0m\u001b[0;34m\u001b[0m\u001b[0;34m\u001b[0m\u001b[0m\n\u001b[0m\u001b[1;32m   3081\u001b[0m             \u001b[0;32mexcept\u001b[0m \u001b[0mKeyError\u001b[0m \u001b[0;32mas\u001b[0m \u001b[0merr\u001b[0m\u001b[0;34m:\u001b[0m\u001b[0;34m\u001b[0m\u001b[0;34m\u001b[0m\u001b[0m\n\u001b[1;32m   3082\u001b[0m                 \u001b[0;32mraise\u001b[0m \u001b[0mKeyError\u001b[0m\u001b[0;34m(\u001b[0m\u001b[0mkey\u001b[0m\u001b[0;34m)\u001b[0m \u001b[0;32mfrom\u001b[0m \u001b[0merr\u001b[0m\u001b[0;34m\u001b[0m\u001b[0;34m\u001b[0m\u001b[0m\n",
      "\u001b[0;32mpandas/_libs/index.pyx\u001b[0m in \u001b[0;36mpandas._libs.index.IndexEngine.get_loc\u001b[0;34m()\u001b[0m\n",
      "\u001b[0;32mpandas/_libs/index.pyx\u001b[0m in \u001b[0;36mpandas._libs.index.IndexEngine.get_loc\u001b[0;34m()\u001b[0m\n",
      "\u001b[0;31mTypeError\u001b[0m: '(slice(45, 50, None), slice(None, None, None))' is an invalid key"
     ]
    }
   ],
   "source": [
    "cost_train_Y1 = []\n",
    "cost_train_Y2 = []\n",
    "cost_eval_Y1 = []\n",
    "cost_eval_Y2 = []\n",
    "theta_3 = np.random.randn(9,1)\n",
    "for i in range(12):\n",
    "    print(i)\n",
    "    X_train = X[50*i: 50*(i+1) -5 ,:] \n",
    "    Y1_train = Y1.iloc[50*i: 50*(i+1) -5 ,:] \n",
    "    Y2_train = Y2.iloc[50*i: 50*(i+1) -5 ,:] \n",
    "    theta_Y1 , cost_Y1 = grad_desc_3 (X_train , Y1_train , theta_3 ,alpha , iterations)\n",
    "    theta_Y2 , cost_Y2 = grad_desc_3 (X_train , Y2_train , theta_3 ,alpha , iterations)\n",
    "    cost_train_Y1.append(cost_Y1)\n",
    "    cost_train_Y2.append(cost_Y2)\n",
    "    \n",
    "    X_eval = X[50*(i+1)-5: 50*(i+1),:]\n",
    "    Y1_eval = Y1[50*(i+1)-5: 50*(i+1),:]\n",
    "    Y2_eval = Y2[50*(i+1)-5: 50*(i+1),:]\n",
    "    cost_eval_Y1.append(call_cost(theta_Y1,X_eval,Y1_eval))\n",
    "    cost_eval_Y2.append(call_cost(theta_Y2,X_eval,Y2_eval))\n",
    "t = list(range(12)) \n",
    "plt.subplot(1, 2, 1)\n",
    "plt.plot(t, cost_train_Y1 ,'ro',t,cost_eval_Y1 , 'g^' )   \n",
    "plt.subplot(1, 2, 2)\n",
    "plt.plot(t, cost_train_Y2 ,'ro',t,cost_eval_Y2 , 'g^' )  "
   ]
  },
  {
   "cell_type": "code",
   "execution_count": null,
   "id": "naval-deputy",
   "metadata": {},
   "outputs": [],
   "source": []
  },
  {
   "cell_type": "markdown",
   "id": "interracial-paste",
   "metadata": {},
   "source": [
    "Q 4 )\n"
   ]
  },
  {
   "cell_type": "code",
   "execution_count": 11,
   "id": "intellectual-channel",
   "metadata": {},
   "outputs": [
    {
     "data": {
      "image/png": "[encoded data removed]",
      "text/plain": [
       "<Figure size 432x288 with 1 Axes>"
      ]
     },
     "metadata": {
      "needs_background": "light"
     },
     "output_type": "display_data"
    }
   ],
   "source": [
    "import scipy.io\n",
    "Data_ = scipy.io.loadmat('data_logistic.mat')\n",
    "Data = Data_['logistic_data']\n",
    "plt.scatter(Data[:,0],Data[:,1],c=Data[:,2])\n",
    "plt.show()"
   ]
  },
  {
   "cell_type": "code",
   "execution_count": 5,
   "id": "technological-stand",
   "metadata": {},
   "outputs": [],
   "source": [
    "def cost4(theta,x,y):\n",
    "    m=len(x)\n",
    "    o = x.dot(theta)  \n",
    "    prediction_ = 1/(1 + np.exp(-1*(np.dot(x,theta))))\n",
    "    cost = (-1/m) * np.sum((np.dot(y.T , np.log(prediction_)) + np.dot((1-y.T) , np.log(1-prediction_))))\n",
    "    return cost"
   ]
  },
  {
   "cell_type": "code",
   "execution_count": 12,
   "id": "limiting-uncertainty",
   "metadata": {},
   "outputs": [],
   "source": [
    "def grad_desc4(x,y,theta,alpha,iterations):\n",
    "    m=len(y)\n",
    "    for i in range(iterations):\n",
    "        #we start prediction with initial condition\n",
    "        prediction = 1/(1 + np.exp(-1*(np.dot(x,theta)))) \n",
    "        theta = theta - (1/m)*alpha*(np.dot(x.T,(prediction - y)))  \n",
    "    \n",
    "    cost = cost4(theta,x,y)\n",
    "    return theta , cost  "
   ]
  },
  {
   "cell_type": "code",
   "execution_count": 13,
   "id": "athletic-yacht",
   "metadata": {},
   "outputs": [
    {
     "name": "stdout",
     "output_type": "stream",
     "text": [
      "thetaa [[ 0.46128783]\n",
      " [ 0.00723796]\n",
      " [-0.0031258 ]]\n",
      "costt :  0.6629455315732798\n"
     ]
    }
   ],
   "source": [
    "alpha = 0.00001 \n",
    "iterations = 100000\n",
    "theta_ = np.random.randn(3,1)  # random initial condition \n",
    "# this line concatinate 1 to a x vector to make theta vector and x vector the same size \n",
    "X_b_ = np.c_[np.ones((len(Data[:,1]),1)),Data[:,0],Data[:,1]]\n",
    "y = np.c_[Data[:,2]]\n",
    "thetaa , costt  = grad_desc4 (X_b_ , y , theta_ ,alpha , iterations)\n",
    "print(\"thetaa\",thetaa)\n",
    "print(\"costt : \",costt,sep=' ')"
   ]
  },
  {
   "cell_type": "code",
   "execution_count": 117,
   "id": "miniature-beatles",
   "metadata": {},
   "outputs": [],
   "source": [
    "def cost_L2(theta,x,y,landa):\n",
    "    m=len(x)\n",
    "    o = x.dot(theta)  \n",
    "    prediction_ = 1/(1 + np.exp(-1*(np.dot(x,theta))))\n",
    "    cost = (-1/m) * np.sum((np.dot(y.T , np.log(prediction_))\n",
    "                            + np.dot((1-y.T) , np.log(1-prediction_)))) + landa * np.sum(theta ** 2)\n",
    "    return cost"
   ]
  },
  {
   "cell_type": "code",
   "execution_count": 120,
   "id": "quarterly-evolution",
   "metadata": {},
   "outputs": [],
   "source": [
    "def L2_norm(x,y,theta,alpha,landa,iterations):\n",
    "    m=len(y)\n",
    "    for i in range(iterations):\n",
    "        #we start prediction with initial condition\n",
    "        prediction = 1/(1 + np.exp(-1*(np.dot(x,theta)))) \n",
    "        theta = theta*(1 - (alpha*landa/m)) - (1/m)*alpha*(np.dot(x.T,(prediction - y)))   \n",
    "    cost = cost_L2(theta,x,y,landa)\n",
    "    return theta , cost "
   ]
  },
  {
   "cell_type": "code",
   "execution_count": 128,
   "id": "younger-equivalent",
   "metadata": {},
   "outputs": [
    {
     "name": "stdout",
     "output_type": "stream",
     "text": [
      "thetaa [[ 0.39576991]\n",
      " [ 0.00768916]\n",
      " [-0.00261854]]\n",
      "costt :  0.6737987844108141\n"
     ]
    }
   ],
   "source": [
    "alpha = 0.00001 \n",
    "iterations = 100000\n",
    "landa = 0.1\n",
    "# theta_ = np.random.randn(3,1)  # random initial condition \n",
    "# this line concatinate 1 to a x vector to make theta vector and x vector the same size \n",
    "X_b_ = np.c_[np.ones((len(Data[:,1]),1)),Data[:,0],Data[:,1]]\n",
    "y = np.c_[Data[:,2]]\n",
    "thetaa , costt = L2_norm (X_b_ , y , theta_ ,alpha, landa, iterations)\n",
    "print(\"thetaa\",thetaa)\n",
    "print(\"costt : \",costt,sep=' ')"
   ]
  },
  {
   "cell_type": "code",
   "execution_count": null,
   "id": "electoral-rolling",
   "metadata": {},
   "outputs": [],
   "source": []
  }
 ],
 "metadata": {
  "kernelspec": {
   "display_name": "Python 3",
   "language": "python",
   "name": "python3"
  },
  "language_info": {
   "codemirror_mode": {
    "name": "ipython",
    "version": 3
   },
   "file_extension": ".py",
   "mimetype": "text/x-python",
   "name": "python",
   "nbconvert_exporter": "python",
   "pygments_lexer": "ipython3",
   "version": "3.7.7"
  }
 },
 "nbformat": 4,
 "nbformat_minor": 5
}
