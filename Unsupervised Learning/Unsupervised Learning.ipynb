{
 "cells": [
  {
   "cell_type": "markdown",
   "id": "narrative-deputy",
   "metadata": {},
   "source": [
    "<h1 style = \"font-size: 30px; text-align: center;\">Machine Learning </h1>\n",
    "<h1 style = \"font-size: 30px; text-align: center;\">HW 5</h1>\n",
    "<h2 style = \"font-size: 25px; text-align: center;\"> Unsupervised learning </h2>\n",
    "<h2 style = \"font-size: 25px; text-align: center; color: #666\">Name: Toktam Sameie</h2>\n",
    "<h2 style = \"font-size: 25px; text-align: center; color: #666\">Student Id: 810896054</h2>\n",
    "<h4 style=\"text-align: center\">Spring 1400</h4>"
   ]
  },
  {
   "cell_type": "markdown",
   "id": "first-crest",
   "metadata": {},
   "source": [
    "<h1 style = \"font-size: 25px; \">Question 1 </h1>"
   ]
  },
  {
   "cell_type": "code",
   "execution_count": 1,
   "id": "alternate-alabama",
   "metadata": {},
   "outputs": [],
   "source": [
    "import pandas as pd\n",
    "import numpy as np\n",
    "import random\n",
    "import matplotlib.pyplot as plt\n",
    "import operator\n",
    "from statistics import mean\n",
    "import copy"
   ]
  },
  {
   "cell_type": "code",
   "execution_count": 77,
   "id": "automated-surface",
   "metadata": {},
   "outputs": [],
   "source": [
    "data = pd.read_csv(\"wine.data\")"
   ]
  },
  {
   "cell_type": "code",
   "execution_count": 78,
   "id": "suburban-clearance",
   "metadata": {},
   "outputs": [],
   "source": [
    "data.columns = ['Y','Alcohol','Malic acid','Ash','Alcalinity of ash','Magnesium','Total phenols ','Flavanoids ','Nonflavanoid phenols','Proanthocyanins','Color intensity','Hue ','OD280/OD315 of diluted wines ','Proline ']"
   ]
  },
  {
   "cell_type": "code",
   "execution_count": 79,
   "id": "latter-arrangement",
   "metadata": {},
   "outputs": [],
   "source": [
    "data.drop('Y', inplace=True, axis=1)"
   ]
  },
  {
   "cell_type": "code",
   "execution_count": 80,
   "id": "departmental-leisure",
   "metadata": {},
   "outputs": [],
   "source": [
    "C = [0]*len(data)\n",
    "data['C'] = C"
   ]
  },
  {
   "cell_type": "markdown",
   "id": "informal-regression",
   "metadata": {},
   "source": [
    "<h1 style = \"font-size: 20px; \"> K-means clustring function : </h1>"
   ]
  },
  {
   "cell_type": "code",
   "execution_count": 139,
   "id": "precious-pottery",
   "metadata": {},
   "outputs": [],
   "source": [
    "def K_means_Clustring (K,data):\n",
    "    mu = [0]*K\n",
    "    for i in range(K):\n",
    "        mu[i]  = data.iloc[random.randint(0, 176)]\n",
    "#     C = [0]*len(data)\n",
    "    for counter in range(100):\n",
    "        ##############\n",
    "        ## Step one ##\n",
    "        ##############\n",
    "        for i in range(len(data)):\n",
    "            temp = [0]*K\n",
    "            for k in range(K):\n",
    "                temp[k] = np.linalg.norm(data.iloc[i]-mu[k])\n",
    "            data['C'][i] = temp.index(min(temp))\n",
    "        ##############\n",
    "        ## Step two ##\n",
    "        ##############\n",
    "        for k in range(K):\n",
    "            mu[k] = data[ data['C'] == k ].mean()\n",
    "    return data        "
   ]
  },
  {
   "cell_type": "markdown",
   "id": "express-secondary",
   "metadata": {},
   "source": [
    "<h1 style = \"font-size: 20px; \">  clustring with k = 2 : </h1>"
   ]
  },
  {
   "cell_type": "code",
   "execution_count": 82,
   "id": "north-entertainment",
   "metadata": {},
   "outputs": [],
   "source": [
    "dt = [data['Alcohol'] ,  data['Ash'] , data['C']]\n",
    "data_abs = pd.concat(dt, axis=1)"
   ]
  },
  {
   "cell_type": "code",
   "execution_count": 88,
   "id": "fancy-increase",
   "metadata": {},
   "outputs": [],
   "source": [
    "new_data = K_means_Clustring(2,data_abs)"
   ]
  },
  {
   "cell_type": "code",
   "execution_count": 84,
   "id": "prospective-institute",
   "metadata": {},
   "outputs": [],
   "source": [
    "gk = new_data.groupby('C')\n",
    "c_0 = gk.get_group(0)\n",
    "c_1 = gk.get_group(1)"
   ]
  },
  {
   "cell_type": "code",
   "execution_count": 87,
   "id": "speaking-jungle",
   "metadata": {},
   "outputs": [
    {
     "data": {
      "text/plain": [
       "[<matplotlib.lines.Line2D at 0x115e8f510>,\n",
       " <matplotlib.lines.Line2D at 0x115ebd690>]"
      ]
     },
     "execution_count": 87,
     "metadata": {},
     "output_type": "execute_result"
    },
    {
     "data": {
      "image/png": "[encoded data removed]",
      "text/plain": [
       "<Figure size 432x288 with 1 Axes>"
      ]
     },
     "metadata": {
      "needs_background": "light"
     },
     "output_type": "display_data"
    }
   ],
   "source": [
    "plt.plot(c_0['Alcohol'], c_0['Ash'], 'go',c_1['Alcohol'], c_1['Ash'], 'ro')"
   ]
  },
  {
   "cell_type": "markdown",
   "id": "overall-shoot",
   "metadata": {},
   "source": [
    "<h1 style = \"font-size: 20px; \">  clustring with k = 3 : </h1>"
   ]
  },
  {
   "cell_type": "code",
   "execution_count": 154,
   "id": "otherwise-tower",
   "metadata": {},
   "outputs": [],
   "source": [
    "data_K_3 = K_means_Clustring(3,data_abs)"
   ]
  },
  {
   "cell_type": "code",
   "execution_count": 91,
   "id": "documentary-moore",
   "metadata": {},
   "outputs": [
    {
     "data": {
      "text/plain": [
       "[<matplotlib.lines.Line2D at 0x115f318d0>,\n",
       " <matplotlib.lines.Line2D at 0x115f52a50>,\n",
       " <matplotlib.lines.Line2D at 0x115f52b10>]"
      ]
     },
     "execution_count": 91,
     "metadata": {},
     "output_type": "execute_result"
    },
    {
     "data": {
      "image/png": "[encoded data removed]",
      "text/plain": [
       "<Figure size 432x288 with 1 Axes>"
      ]
     },
     "metadata": {
      "needs_background": "light"
     },
     "output_type": "display_data"
    }
   ],
   "source": [
    "gk3 = data_K_3.groupby('C')\n",
    "c3_0 = gk3.get_group(0)\n",
    "c3_1 = gk3.get_group(1)\n",
    "c3_2 = gk3.get_group(2)\n",
    "plt.plot(c3_0['Alcohol'], c3_0['Ash'], 'go',c3_1['Alcohol'], c3_1['Ash'], 'ro',c3_2['Alcohol'], c3_2['Ash'], 'bo')"
   ]
  },
  {
   "cell_type": "markdown",
   "id": "noticed-harvey",
   "metadata": {},
   "source": [
    "<h1 style = \"font-size: 20px; \">  clustring with k = 5 : </h1>"
   ]
  },
  {
   "cell_type": "code",
   "execution_count": 155,
   "id": "meaning-gossip",
   "metadata": {},
   "outputs": [],
   "source": [
    "data_K_5 = K_means_Clustring(5,data_abs)"
   ]
  },
  {
   "cell_type": "code",
   "execution_count": 16,
   "id": "cultural-appraisal",
   "metadata": {},
   "outputs": [
    {
     "data": {
      "text/plain": [
       "[<matplotlib.lines.Line2D at 0x115807c50>,\n",
       " <matplotlib.lines.Line2D at 0x115896d50>,\n",
       " <matplotlib.lines.Line2D at 0x115896e10>,\n",
       " <matplotlib.lines.Line2D at 0x115896ed0>,\n",
       " <matplotlib.lines.Line2D at 0x115896f90>]"
      ]
     },
     "execution_count": 16,
     "metadata": {},
     "output_type": "execute_result"
    },
    {
     "data": {
      "image/png": "[encoded data removed]",
      "text/plain": [
       "<Figure size 432x288 with 1 Axes>"
      ]
     },
     "metadata": {
      "needs_background": "light"
     },
     "output_type": "display_data"
    }
   ],
   "source": [
    "gk5 = data_K_5.groupby('C')\n",
    "c5_0 = gk5.get_group(0)\n",
    "c5_1 = gk5.get_group(1)\n",
    "c5_2 = gk5.get_group(2)\n",
    "c5_3 = gk5.get_group(3)\n",
    "c5_4 = gk5.get_group(4)\n",
    "plt.plot(c5_0['Alcohol'], c5_0['Ash'], 'yo',c5_1['Alcohol'], c5_1['Ash'], 'ro',c5_2['Alcohol'], c5_2['Ash'], 'bo',c5_3['Alcohol'], c5_3['Ash'], 'mo',c5_4['Alcohol'], c5_4['Ash'], 'ko')"
   ]
  },
  {
   "cell_type": "markdown",
   "id": "applicable-pressing",
   "metadata": {},
   "source": [
    "<h1 style = \"font-size: 20px; \">  clustring with k = 7 : </h1>"
   ]
  },
  {
   "cell_type": "code",
   "execution_count": 156,
   "id": "pressing-benefit",
   "metadata": {},
   "outputs": [],
   "source": [
    "data_K_7 = K_means_Clustring(7,data_abs)"
   ]
  },
  {
   "cell_type": "code",
   "execution_count": 141,
   "id": "japanese-access",
   "metadata": {},
   "outputs": [
    {
     "data": {
      "text/plain": [
       "[<matplotlib.lines.Line2D at 0x1160ec950>,\n",
       " <matplotlib.lines.Line2D at 0x11602b0d0>,\n",
       " <matplotlib.lines.Line2D at 0x11602b190>,\n",
       " <matplotlib.lines.Line2D at 0x11602b590>,\n",
       " <matplotlib.lines.Line2D at 0x11600ae50>,\n",
       " <matplotlib.lines.Line2D at 0x11600ad90>,\n",
       " <matplotlib.lines.Line2D at 0x115e4aa90>]"
      ]
     },
     "execution_count": 141,
     "metadata": {},
     "output_type": "execute_result"
    },
    {
     "data": {
      "image/png": "[encoded data removed]",
      "text/plain": [
       "<Figure size 432x288 with 1 Axes>"
      ]
     },
     "metadata": {
      "needs_background": "light"
     },
     "output_type": "display_data"
    }
   ],
   "source": [
    "gk7 = data_K_7.groupby('C')\n",
    "c7_0 = gk7.get_group(0)\n",
    "c7_1 = gk7.get_group(1)\n",
    "c7_2 = gk7.get_group(2)\n",
    "c7_3 = gk7.get_group(3)\n",
    "c7_4 = gk7.get_group(4)\n",
    "c7_5 = gk7.get_group(5)\n",
    "c7_6 = gk7.get_group(6)\n",
    "plt.plot(c7_0['Alcohol'], c7_0['Ash'], 'go',c7_1['Alcohol'], c7_1['Ash'], 'ro',c7_2['Alcohol'], c7_2['Ash'], 'bo',c7_3['Alcohol'], c7_3['Ash'], 'mo',c7_4['Alcohol'], c7_4['Ash'], 'ko',c7_5['Alcohol'], c7_5['Ash'], 'co',c7_6['Alcohol'], c7_6['Ash'], 'yo')"
   ]
  },
  {
   "cell_type": "markdown",
   "id": "brief-metallic",
   "metadata": {},
   "source": [
    "<h1 style = \"font-size: 25px; \">Internal Index : Silhouette</h1>"
   ]
  },
  {
   "cell_type": "code",
   "execution_count": 149,
   "id": "deadly-airfare",
   "metadata": {},
   "outputs": [],
   "source": [
    "def Silhouette(df_grouped,K):\n",
    "    Si = [0]*K\n",
    "    for i in range(len(df_grouped)):\n",
    "        ## for cluster i \n",
    "        cluster = df_grouped.get_group(i)\n",
    "        cluster = cluster.set_axis(np.arange(0, len(cluster) , 1), axis='index')\n",
    "        s_i_cluster = 0\n",
    "        for j in range(len(cluster)):\n",
    "            ## for each data xi in this cluster\n",
    "            a_i = ai(cluster.loc[j].at[\"Alcohol\"],cluster.loc[j].at[\"Ash\"],cluster)\n",
    "            counter = 0 \n",
    "            for m in range(len(df_grouped)):\n",
    "                temp = [0]* (K-1)\n",
    "                if m != i and counter < K:\n",
    "                    neighbor_cluster = df_grouped.get_group(m)                     \n",
    "                    temp[counter] = ai(cluster.loc[j].at[\"Alcohol\"],cluster.loc[j].at[\"Ash\"],neighbor_cluster)\n",
    "                    counter +=1\n",
    "            b_i = min(temp)\n",
    "            s_i_cluster += (b_i - a_i)/max(b_i , a_i)\n",
    "        Si[i] = s_i_cluster/len(cluster)\n",
    "        total_mean_si = mean(Si)\n",
    "    return Si , total_mean_si"
   ]
  },
  {
   "cell_type": "code",
   "execution_count": 143,
   "id": "bizarre-playback",
   "metadata": {},
   "outputs": [],
   "source": [
    "def distance(xi,yi,xj,yj):\n",
    "    return np.sqrt((xi-xj)**2 + (yi-yj)**2)"
   ]
  },
  {
   "cell_type": "code",
   "execution_count": 144,
   "id": "frank-nature",
   "metadata": {},
   "outputs": [],
   "source": [
    "def ai(xi,yi,cluster):\n",
    "    Sum = 0\n",
    "    for i in range(len(cluster)):\n",
    "        Sum += cluster.apply(lambda row : distance(xi,yi,row['Alcohol'],row['Ash']), axis = 1)\n",
    "    return Sum.sum()/len(cluster)"
   ]
  },
  {
   "cell_type": "code",
   "execution_count": 150,
   "id": "dried-broad",
   "metadata": {},
   "outputs": [],
   "source": [
    "Si_3 , total_mean_si_3 = Silhouette(df3,3)\n",
    "Si_5 , total_mean_si_5 = Silhouette(gk5,5)\n",
    "Si_7 , total_mean_si_7 = Silhouette(gk7,7)"
   ]
  },
  {
   "cell_type": "markdown",
   "id": "generous-workplace",
   "metadata": {},
   "source": [
    "<h1 style = \"font-size: 25px; \">Question 4 <h1/>\n",
    "<h1 style = \"font-size: 25px; \">PCA</h1>"
   ]
  },
  {
   "cell_type": "code",
   "execution_count": 5,
   "id": "worldwide-republic",
   "metadata": {},
   "outputs": [],
   "source": [
    "Iris = pd.read_csv(\"iris.data\")"
   ]
  },
  {
   "cell_type": "code",
   "execution_count": 6,
   "id": "convertible-gross",
   "metadata": {},
   "outputs": [],
   "source": [
    "Iris.columns = ['X1','X2','X3','X4','X5']\n",
    "Iris.drop('X5', inplace=True, axis=1)"
   ]
  },
  {
   "cell_type": "code",
   "execution_count": 7,
   "id": "functioning-thermal",
   "metadata": {},
   "outputs": [],
   "source": [
    "def normalize(df):\n",
    "    result = df.copy()\n",
    "    for feature_name in df.columns:\n",
    "        max_value = df[feature_name].max()\n",
    "        min_value = df[feature_name].min()\n",
    "        mean_value = df[feature_name].mean()\n",
    "        df[feature_name] = (df[feature_name] - mean_value) / (max_value - min_value)\n",
    "    return result"
   ]
  },
  {
   "cell_type": "code",
   "execution_count": 8,
   "id": "accompanied-bulgarian",
   "metadata": {},
   "outputs": [],
   "source": [
    "normalized_Iris = normalize(Iris)"
   ]
  },
  {
   "cell_type": "code",
   "execution_count": 9,
   "id": "systematic-farmer",
   "metadata": {},
   "outputs": [],
   "source": [
    "def PCA(normalized_Iris,k):\n",
    "    covariance = normalized_Iris.cov()\n",
    "    u, s, vh = np.linalg.svd(covariance)\n",
    "    U_reduced = -u[:,:k]\n",
    "    Z = np.matmul(Iris,U_reduced)\n",
    "    return Z , U_reduced "
   ]
  },
  {
   "cell_type": "code",
   "execution_count": 10,
   "id": "arabic-railway",
   "metadata": {},
   "outputs": [],
   "source": [
    "Z , U_reduced = PCA(normalized_Iris,2)"
   ]
  },
  {
   "cell_type": "code",
   "execution_count": 12,
   "id": "boring-helmet",
   "metadata": {},
   "outputs": [
    {
     "data": {
      "text/plain": [
       "[<matplotlib.lines.Line2D at 0x1178a0990>]"
      ]
     },
     "execution_count": 12,
     "metadata": {},
     "output_type": "execute_result"
    },
    {
     "data": {
      "image/png": "[encoded data removed]",
      "text/plain": [
       "<Figure size 432x288 with 1 Axes>"
      ]
     },
     "metadata": {
      "needs_background": "light"
     },
     "output_type": "display_data"
    }
   ],
   "source": [
    "plt.plot(Z.iloc[:,0], Z.iloc[:,1], 'go')"
   ]
  },
  {
   "cell_type": "markdown",
   "id": "chinese-maria",
   "metadata": {},
   "source": [
    "<h1 style = \"font-size: 25px; \">Power Method </h1>"
   ]
  },
  {
   "cell_type": "code",
   "execution_count": 175,
   "id": "joint-impossible",
   "metadata": {},
   "outputs": [],
   "source": [
    "def powerMethod_landa_1(A,iteration):\n",
    "    x = np.array([1, 1, 0, 0])\n",
    "    for i in range(iteration):\n",
    "        x = np.dot(A, x)\n",
    "        landa_1 = abs(x).max()\n",
    "        x = x / x.max()\n",
    "    return landa_1 , x"
   ]
  },
  {
   "cell_type": "code",
   "execution_count": 176,
   "id": "micro-lightning",
   "metadata": {},
   "outputs": [],
   "source": [
    "def powerMethod_landa_2(A,landa_1,iteration):\n",
    "    shifted_A = A - landa_1 * np.identity(len(A))  \n",
    "    Lan , x_2 = powerMethod_landa_1(shifted_A,iteration)\n",
    "    landa_2 = Lan + landa_1\n",
    "    return landa_2 , x_2"
   ]
  },
  {
   "cell_type": "code",
   "execution_count": 177,
   "id": "revolutionary-rates",
   "metadata": {},
   "outputs": [],
   "source": [
    "covariance = normalized_Iris.cov()\n",
    "landa_1 , x_1 = powerMethod_landa_1(covariance,100)\n",
    "landa_2 , x_2 = powerMethod_landa_2(covariance,landa_1,100)"
   ]
  },
  {
   "cell_type": "code",
   "execution_count": 178,
   "id": "contrary-shopper",
   "metadata": {},
   "outputs": [
    {
     "data": {
      "text/plain": [
       "array([[ 0.36263433, -0.03218843],\n",
       "       [-0.08122848,  0.90930602],\n",
       "       [ 0.85629752,  0.24126574],\n",
       "       [ 0.35868209, -0.33751638]])"
      ]
     },
     "execution_count": 178,
     "metadata": {},
     "output_type": "execute_result"
    }
   ],
   "source": [
    "X_1 = (x_1/np.linalg.norm(x_1)).reshape(4,1)\n",
    "X_2 = (x_2/np.linalg.norm(x_2)).reshape(4,1)\n",
    "U = np.concatenate((X_1,X_2), axis=1)\n",
    "U"
   ]
  },
  {
   "cell_type": "code",
   "execution_count": 179,
   "id": "raised-bidding",
   "metadata": {},
   "outputs": [],
   "source": [
    "Z_PM = np.matmul(normalized_Iris,U)"
   ]
  },
  {
   "cell_type": "code",
   "execution_count": 185,
   "id": "appointed-preservation",
   "metadata": {},
   "outputs": [
    {
     "data": {
      "text/plain": [
       "[<matplotlib.lines.Line2D at 0x12ed0afd0>]"
      ]
     },
     "execution_count": 185,
     "metadata": {},
     "output_type": "execute_result"
    },
    {
     "data": {
      "image/png": "[encoded data removed]",
      "text/plain": [
       "<Figure size 432x288 with 1 Axes>"
      ]
     },
     "metadata": {
      "needs_background": "light"
     },
     "output_type": "display_data"
    }
   ],
   "source": [
    "plt.plot(Z_PM.iloc[:,0], Z_PM.iloc[:,1], 'ro')"
   ]
  },
  {
   "cell_type": "markdown",
   "id": "complimentary-appearance",
   "metadata": {},
   "source": [
    "<h1 style = \"font-size: 25px; \"> kernel PCA</h1>"
   ]
  },
  {
   "cell_type": "code",
   "execution_count": 181,
   "id": "religious-decimal",
   "metadata": {},
   "outputs": [],
   "source": [
    "from sklearn.decomposition import KernelPCA"
   ]
  },
  {
   "cell_type": "code",
   "execution_count": 182,
   "id": "violent-spell",
   "metadata": {},
   "outputs": [
    {
     "data": {
      "text/plain": [
       "(149, 2)"
      ]
     },
     "execution_count": 182,
     "metadata": {},
     "output_type": "execute_result"
    }
   ],
   "source": [
    "transformer = KernelPCA(n_components=2, kernel='sigmoid')\n",
    "Iris_transformed = transformer.fit_transform(Iris)\n",
    "Iris_transformed.shape"
   ]
  },
  {
   "cell_type": "code",
   "execution_count": 183,
   "id": "assumed-plant",
   "metadata": {},
   "outputs": [
    {
     "data": {
      "text/plain": [
       "[<matplotlib.lines.Line2D at 0x12eb3f0d0>]"
      ]
     },
     "execution_count": 183,
     "metadata": {},
     "output_type": "execute_result"
    },
    {
     "data": {
      "image/png": "[encoded data removed]",
      "text/plain": [
       "<Figure size 432x288 with 1 Axes>"
      ]
     },
     "metadata": {
      "needs_background": "light"
     },
     "output_type": "display_data"
    }
   ],
   "source": [
    "plt.plot(Iris_transformed[:,0], Iris_transformed[:,1], 'mo')"
   ]
  }
 ],
 "metadata": {
  "kernelspec": {
   "display_name": "Python 3",
   "language": "python",
   "name": "python3"
  },
  "language_info": {
   "codemirror_mode": {
    "name": "ipython",
    "version": 3
   },
   "file_extension": ".py",
   "mimetype": "text/x-python",
   "name": "python",
   "nbconvert_exporter": "python",
   "pygments_lexer": "ipython3",
   "version": "3.7.7"
  }
 },
 "nbformat": 4,
 "nbformat_minor": 5
}
